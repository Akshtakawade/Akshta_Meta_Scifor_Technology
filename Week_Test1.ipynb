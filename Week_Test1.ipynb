{
  "nbformat": 4,
  "nbformat_minor": 0,
  "metadata": {
    "colab": {
      "provenance": [],
      "authorship_tag": "ABX9TyMiAbFxmnnpGTvF5He7UUaG"
    },
    "kernelspec": {
      "name": "python3",
      "display_name": "Python 3"
    },
    "language_info": {
      "name": "python"
    }
  },
  "cells": [
    {
      "cell_type": "code",
      "execution_count": null,
      "metadata": {
        "id": "z70ZNdabW78B"
      },
      "outputs": [],
      "source": [
        "# What are Pyhon data types?\n",
        "#List the primary data types such as integers, floats, strings, lists, tuples,\n",
        "dictionaries, and sets.\n",
        "\n",
        "Integer - integer are whole numbers, eg - 1,2,3\n",
        "Float - floats are Decimal numbers, eg - 1.2, 6.8, 3.25\n",
        "Strings -strings are Whole characters, eg- Hi, Python, Data\n",
        "Lists - lists are mutable collection of items, eg- [1,2,3], [\"hi\", \"python\", \"data\"]\n",
        "Tuples - tuples are immutable collection of items, eg - (1,2,3), (\"hi\", \"python\", \"data\")\n",
        "Dictionaries -dictionaries used to store key Value pairs, eg - {\"name\":\"Sam\", \"age\":21}\n",
        "Sets - mutable collection of unique values eg - {1,2,3}\n",
        "\n",
        "integer = 12\n",
        "print(integer, type(integer))\n",
        "\n",
        "float = 3.25\n",
        "print(float, type(float))\n",
        "\n",
        "string = \"Python\"\n",
        "print(string, type(string))\n",
        "\n",
        "list = [1,2,3]\n",
        "print(list)\n",
        "\n",
        "\n",
        "tuple = (1,2,3)\n",
        "print(tuple)\n",
        "\n",
        "\n",
        "dict = {\"name\":\"Sam\", \"age\":21}\n",
        "print(dict)\n",
        "\n",
        "set = {1,2,3}\n",
        "print(set)"
      ]
    },
    {
      "cell_type": "code",
      "source": [
        "# Explain the difference between list, tuple, and set.\n",
        "#Talk about mutability, ordering, and uniqueness.\n",
        "\n",
        " Lists - are mutable, means we can change their contents, we can add, remove or modify.\n",
        "lists are order ,which means the elemnts maintain their inserting Order, we can add duplicate values also.\n",
        "in list we used square bracket - [1,2,3,4]\n",
        "\n",
        "Tuple - are immutable, means we can't change their contents, we can't add, remove or modify once we created\n",
        "tuples also ordered like list and tuples can also duplicate values.\n",
        "in tuple we used round bracket - (1,2,3,4)\n",
        "\n",
        "Sets - are mutable, means we can their contains, but sets only have unique cotains\n",
        "in sets we used curly bracket - {1,2,3,4}"
      ],
      "metadata": {
        "id": "ZIu4I1LiXBQ1"
      },
      "execution_count": null,
      "outputs": []
    },
    {
      "cell_type": "code",
      "source": [
        "#How do you handle exceptions in Python?\n",
        "#Explain the use of try, except, else, finally, and custom exceptions\n",
        "\n",
        "In python try, except, else, and finally and custom exceptions\n",
        "try block is where we rerite code that might cause an error if an error happens the except block will handle that code without crashing or making problem in code\n",
        "else is used to execute code on particular condition\n",
        "finally defines a block code to run when the try except else block\n",
        "Customs exception are used to define specific error in your programs"
      ],
      "metadata": {
        "id": "s1wWBWabXNIy"
      },
      "execution_count": null,
      "outputs": []
    },
    {
      "cell_type": "code",
      "source": [
        "# What are Python decorators?\n",
        "# Explain how decorators modify the behavior of functions or methods.\n",
        "\n",
        "Decoraters are used  modify the behaviour of function without changing their actual code\n",
        "decorators can adding, logging, measuring\n",
        "they can modify inputs\n",
        "def l(func):\n",
        "    def wrapper(*abc, **efg):\n",
        "        print(f\"Calling {func.__name__} with arguments: {abc}, {efg}\")\n",
        "        result = func(*abc, **efg)\n",
        "        print(f\"{func.__name__} returned: {result}\")\n",
        "        return result\n",
        "    return wrapper\n",
        "\n",
        "@l\n",
        "def add(a, b):\n",
        "    return a + b\n",
        "add(2, 3)"
      ],
      "metadata": {
        "id": "IstuV9qFZkUy"
      },
      "execution_count": null,
      "outputs": []
    },
    {
      "cell_type": "code",
      "source": [
        "# What is a lambda function?\n",
        "# Discuss anonymous functions and the use of lambda expressions in Python.\n",
        "\n",
        "lambda function can define with def, they don't need a specific name  or identifier\n",
        "it is a simple opertion\n",
        "\n",
        "add = lambda a, b: a + b\n",
        "result = add(3, 5)\n",
        "print(result)\n"
      ],
      "metadata": {
        "id": "j6vNmGAAa3Zd"
      },
      "execution_count": null,
      "outputs": []
    },
    {
      "cell_type": "code",
      "source": [
        "# How does Python handle multithreading?\n",
        "# Talk about the Global Interpreter Lock (GIL) and the difference between\n",
        "multithreading and multiprocessing.\n",
        "\n",
        "python handles multithreading through the module, which allow we to create and manage threads.\n",
        "we can create threads using the threading module. the thread class allows we to run a function in a seprate thread.\n",
        "import threading\n",
        "def worker():\n",
        "    print(\"Thread is running\")\n",
        "thread = thread.Thread(target=worker)\n",
        "thread.start()\n",
        "thread.join()"
      ],
      "metadata": {
        "id": "J0MC6sywaLmp"
      },
      "execution_count": null,
      "outputs": []
    },
    {
      "cell_type": "code",
      "source": [
        "# How do you work with files in Python?\n",
        "# Explain file operations such as open(), read(), write(), and file modes.\n",
        "\n",
        "open() - fuction is used to open a file and it takes file path for open a FileExistsError\n",
        "\n",
        "read() - in read mode we can read contents of file using various methos eg - read(size), readline()\n",
        "\n",
        "write() - we can write a string to the file if file is opend in write mode\n",
        "these operations used to interact with text of files"
      ],
      "metadata": {
        "id": "dw7GIqGaZkOf"
      },
      "execution_count": null,
      "outputs": []
    },
    {
      "cell_type": "markdown",
      "source": [],
      "metadata": {
        "id": "TgWaBtAociVL"
      }
    },
    {
      "cell_type": "code",
      "source": [
        "# What is Object-Oriented Programming (OOP)?\n",
        "# Explain the basic principles of OOP: encapsulation, abstraction, inheritance, and polymorphism.\n",
        "\n",
        "Object oriented programming is a programming concept of object the basic priciples of OOP are\n",
        "\n",
        "Encapsulation - collection of data and methods access to certain components , it is a wrap our data/ methods into single class\n",
        "\n",
        "Abstraction -  is focus on essential details and hides comples implementation\n",
        "\n",
        "Inheritance - allows one class to inherit attributes and methods from another code\n",
        "\n",
        "Polymorphism - allows to use variable of differnt types of different times"
      ],
      "metadata": {
        "id": "66KkpbcxdgWa"
      },
      "execution_count": null,
      "outputs": []
    },
    {
      "cell_type": "code",
      "source": [
        "# What is a class and an object in Python?\n",
        "\n",
        "Define classes as blueprints for objects and explain how objects are instances of\n",
        "classes\n",
        "In pythom class is a blueprint for crating object it defines attributes and methods that the object created from the class\n"
      ],
      "metadata": {
        "id": "5T8TDdEEgTN_"
      },
      "execution_count": null,
      "outputs": []
    },
    {
      "cell_type": "code",
      "source": [
        "# What are instance variables and class variables?\n",
        "Discuss the difference between variables defined within methods (instance\n",
        "variables) and variables shared across all instances (class variables).\n",
        "\n",
        " In python, variables defined within classes can be catergorized into instance variables and class variables\n",
        "\n",
        " instance variable are define within methods, they are unique to each instance, typically created using \"self\"\n",
        "\n",
        " class girl:\n",
        "    def __init__(self, name, age):\n",
        "        self.name = name\n",
        "        self.age = age\n",
        "\n",
        "girl1 = girl(\"Sam\", 10)\n",
        "girl2 = girl(\"ana\", 5)\n",
        "\n",
        "print(girl1.name)\n",
        "print(girl2.name)\n"
      ],
      "metadata": {
        "id": "dAXTu45Tg6cP"
      },
      "execution_count": null,
      "outputs": []
    },
    {
      "cell_type": "code",
      "source": [
        "# What are abstract classes and interfaces in Python?\n",
        "Discuss the use of abstract base classes (ABC) from the abc module.\n",
        "\n",
        "Abstract classes and interfaces are used to define common behaviours for group of related classes\n",
        " abstract class is a class cannot be instantianed directly\n",
        " abstarct base classes are created using the abc module, which provides the abc class and the abstract method\n",
        "\n",
        " from abc import ABC, abstractmethod\n",
        "\n",
        "class Animal(ABC):\n",
        "    @abstractmethod\n",
        "    def speak(self):\n",
        "        pass\n",
        "\n",
        "class Dog(Animal):\n",
        "    def speak(self):\n",
        "        return \"Woof!\"\n",
        "\n",
        "class Cat(Animal):\n",
        "    def speak(self):\n",
        "        return \"Meow!\"\n",
        "dog = Dog()\n",
        "cat = Cat()\n",
        "\n",
        "print(dog.speak())  !\n",
        "print(cat.speak())\n",
        "\n",
        "\n",
        "\n",
        " In python, variables defined within classes can be catergorized into instance variables and class variables\n",
        "\n",
        " instance variable are define within methods, they are unique to each instance, typically created using \"self\"\n",
        "\n",
        " class girl:\n",
        "    def __init__(self, name, age):\n",
        "        self.name = name\n",
        "        self.age = age\n",
        "\n",
        "girl1 = girl(\"Sam\", 10)\n",
        "girl2 = girl(\"ana\", 5)\n",
        "\n",
        "print(girl1.name)\n",
        "print(girl2.name)"
      ],
      "metadata": {
        "id": "5goDj93GcVyi"
      },
      "execution_count": null,
      "outputs": []
    },
    {
      "cell_type": "code",
      "source": [
        "#What is the purpose of the __init__ method?\n",
        "Explain how __init__ initializes objects and the role of the constructor.\n",
        "_init_ is used to invoke the class , it is known as the constructor\n",
        "_init_ method allows we to set intial values for object\n",
        "when we pass the an object from a class, you can pass arguments to the class, whic are then recieved by the _init method\n",
        "\n",
        "class girl:\n",
        "    def __init__(self, name, age):\n",
        "        self.name = name\n",
        "        self.age = age    emacs_insert_mode\n",
        "girl1 = Dog(\"Sam\", 10)\n",
        "girl2 = Dog(\"Ann\", 5)\n",
        "\n",
        "print(girl1.name)\n",
        "print(girl2.age)"
      ],
      "metadata": {
        "id": "PhX-qhIJguFe"
      },
      "execution_count": null,
      "outputs": []
    },
    {
      "cell_type": "code",
      "source": [
        "# What are self and cls?\n",
        "Describe how self refers to the instance and cls refers to the class in methodss\n",
        "\n",
        "self and cls are used to refer to the instance of a class and the class itself\n",
        "self is the first parameter of instance method\n",
        "it allows acces to the instance's attributes and methods\n",
        "\n",
        "class dog:\n",
        "    def __init__(self, name):\n",
        "        self.name = name\n",
        "\n",
        "    def bark(self):\n",
        "        return f\"{self.name} says woof!\"\n",
        "\n",
        "dog1 = Dog(\"Buddy\")\n",
        "print(dog1.bark())"
      ],
      "metadata": {
        "id": "ISUGOQPyjtQz"
      },
      "execution_count": null,
      "outputs": []
    },
    {
      "cell_type": "code",
      "source": [
        "# What is inheritance?\n",
        "Discuss how one class can inherit methods and attributes from another class.\n",
        "\n",
        "inheritance is the concept of object oriented programming that allows one class (child or sub class) from another class (parent class)\n",
        " a subclass can extended or modify the behaviour of its superclass\n",
        " the subclass can provid ea specific implementation of a method that is alredy defined in the superclass\n",
        "\n",
        " # Parent class\n",
        "class Animal:\n",
        "    def __init__(self, name):\n",
        "        self.name = name\n",
        "\n",
        "    def speak(self):\n",
        "        return \"Some sound\"\n",
        "\n",
        "class Dog(Animal):\n",
        "    def speak(self):\n",
        "        return f\"{self.name} says woof!\"\n",
        "\n",
        "class Cat(Animal):\n",
        "    def speak(self):\n",
        "        return f\"{self.name} says meow!\"\n",
        "\n",
        "dog = Dog(\"Buddy\")\n",
        "cat = Cat(\"Whiskers\")\n",
        "print(dog.speak())\n",
        "print(cat.speak())"
      ],
      "metadata": {
        "id": "BRWMLzlnkgHp"
      },
      "execution_count": null,
      "outputs": []
    },
    {
      "cell_type": "code",
      "source": [
        "#Explain method overriding and method overloadin\n",
        "Differentiate between changing the functionality of a method in a subclass\n",
        "(overriding) and using multiple methods with the same name but different\n",
        "parameters (overloading).\n",
        "\n",
        "Overriding and overloading are two concept in OOP relate to behave how methods behave in Classes\n",
        "overriding changes the behaviour pof an inherited method in a subclass\n",
        "it is used when a subclass wants to provide a specific implementation of a method.\n",
        "\n",
        "overloading allows multiple methods with same name\n",
        "it is used  when a method needs to perform similar operations with different types or number of input\n",
        "\n",
        "#Overriding\n",
        " class Animal:\n",
        "    def speak(self):\n",
        "        return \"Some sound\"\n",
        "\n",
        "class Dog(Animal):\n",
        "    def speak(self):\n",
        "        return \"Woof!\"\n",
        "\n",
        "class Cat(Animal):\n",
        "    def speak(self):\n",
        "        return \"Meow!\"\n",
        "\n",
        "dog = Dog()\n",
        "cat = Cat()\n",
        "\n",
        "print(dog.speak())\n",
        "print(cat.speak())\n",
        "\n",
        "\n",
        "# Overloading\n",
        "class MathOperations:\n",
        "    def add(self, a, b, c=0):\n",
        "        return a + b + c\n",
        "\n",
        "math_ops = MathOperations()\n",
        "\n",
        "print(math_ops.add(1, 2))\n",
        "print(math_ops.add(1, 2, 3))\n"
      ],
      "metadata": {
        "id": "Vk28G6Wil9S9"
      },
      "execution_count": null,
      "outputs": []
    },
    {
      "cell_type": "code",
      "source": [
        "# What is multiple inheritance? How does Python handle it?\n",
        "Explain how Python supports multiple inheritance and how the Method\n",
        "Resolution Order (MRO) resolves conflicts.\n",
        "\n",
        "Multiple inheritance ia feature of OOP  this enables a class to combine behaviours from multiple sources\n",
        "python supports multiple inheritance directly. you can define a subclass that inheruts from multiple parent class\n",
        "\n",
        "class Parent1:\n",
        "    def greet(self):\n",
        "        return \"Hello from Parent1\"\n",
        "\n",
        "class Parent2:\n",
        "    def greet(self):\n",
        "        return \"Hello from Parent2\"\n",
        "\n",
        "class Child(Parent1, Parent2):\n",
        "    def greet(self):\n",
        "        return \"Hello from Child\"\n",
        "\n",
        "child = Child()\n",
        "print(child.greet()"
      ],
      "metadata": {
        "id": "Mw6n-QrkqM6P"
      },
      "execution_count": null,
      "outputs": []
    },
    {
      "cell_type": "code",
      "source": [
        "# What are abstract classes and interfaces in Python?\n",
        "Discuss the use of abstract base classes (ABC) from the abc module.\n",
        "\n",
        "Abstract classes and interfaces are used to define common behaviours for group of related classes\n",
        " abstract class is a class cannot be instantianed directly\n",
        " abstarct base classes are created using the abc module, which provides the abc class and the abstract method\n",
        "\n",
        " from abc import ABC, abstractmethod\n",
        "\n",
        "class Animal(ABC):\n",
        "    @abstractmethod\n",
        "    def speak(self):\n",
        "        pass\n",
        "\n",
        "class Dog(Animal):\n",
        "    def speak(self):\n",
        "        return \"Woof!\"\n",
        "\n",
        "class Cat(Animal):\n",
        "    def speak(self):\n",
        "        return \"Meow!\"\n",
        "dog = Dog()\n",
        "cat = Cat()\n",
        "\n",
        "print(dog.speak())  !\n",
        "print(cat.speak())\n"
      ],
      "metadata": {
        "id": "5EQ-HEh4rQVS"
      },
      "execution_count": null,
      "outputs": []
    },
    {
      "cell_type": "code",
      "source": [
        "# What is polymorphism in Python?\n",
        " Explain how different objects can be accessed through the same interface, and\n",
        "give examples like method overriding.\n",
        "\n",
        "Polymorphism - allows to use variable of differnt types of different times\n",
        "it enables same method to operate differently based on the object that invokes it\n",
        "\n",
        "# Base class\n",
        "class Animal:\n",
        "    def sound(self):\n",
        "        raise NotImplementedError(\"Subclasses must implement this method.\")\n",
        "\n",
        "# Derived class: Dog\n",
        "class Dog(Animal):\n",
        "    def sound(self):\n",
        "        return \"Bark!\"\n",
        "\n",
        "# Derived class: Cat\n",
        "class Cat(Animal):\n",
        "    def sound(self):\n",
        "        return \"Meow!\"\n",
        "\n",
        "# Derived class: Cow\n",
        "class Cow(Animal):\n",
        "    def sound(self):\n",
        "        return \"Moo!\"\n",
        "\n",
        "# Function to demonstrate polymorphism\n",
        "def make_animal_sound(animal):\n",
        "    print(animal.sound())\n",
        "\n",
        "# Creating objects\n",
        "dog = Dog()\n",
        "cat = Cat()\n",
        "cow = Cow()\n",
        "\n",
        "# Using polymorphism\n",
        "make_animal_sound(dog)\n",
        "make_animal_sound(cat)\n",
        "make_animal_sound(cow)"
      ],
      "metadata": {
        "id": "VPV8dHvudT5t"
      },
      "execution_count": null,
      "outputs": []
    },
    {
      "cell_type": "code",
      "source": [
        "# What are getters and setters in Python?\n",
        "\n",
        "getters and setters are special method used in python to control access to an object's attributes.\n",
        "a getter is a method that retrives the value of a private attribute and setters allows to set or modify the value of a private attribute.\n",
        "\n",
        "class Person:\n",
        "    def __init__(self, name, age):\n",
        "        self.__name = name\n",
        "        self.__age = age\n",
        "    @property\n",
        "    def name(self):\n",
        "        return self.__name\n",
        "    @name.setter\n",
        "    def name(self, new_name):\n",
        "        if isinstance(new_name, str) and new_name:\n",
        "            self.__name = new_name"
      ],
      "metadata": {
        "id": "23o2GaK6dU21"
      },
      "execution_count": null,
      "outputs": []
    },
    {
      "cell_type": "code",
      "source": [
        "# What is a static method and a class method in Python?\n",
        "Clarify the difference between instance methods, static methods\n",
        "(@staticmethod), and class methods (@classmethod).\n",
        "\n",
        "class Math:\n",
        "    @staticmethod\n",
        "    def add(a,b):\n",
        "        return a+b\n",
        "        print(Math.add(5,3))"
      ],
      "metadata": {
        "id": "sDEYH4IvdYPO"
      },
      "execution_count": null,
      "outputs": []
    }
  ]
}