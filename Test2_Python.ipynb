{
  "nbformat": 4,
  "nbformat_minor": 0,
  "metadata": {
    "colab": {
      "provenance": [],
      "authorship_tag": "ABX9TyMW+SjcOUxGMbgEtsiCPuyD"
    },
    "kernelspec": {
      "name": "python3",
      "display_name": "Python 3"
    },
    "language_info": {
      "name": "python"
    }
  },
  "cells": [
    {
      "cell_type": "code",
      "execution_count": 2,
      "metadata": {
        "colab": {
          "base_uri": "https://localhost:8080/"
        },
        "id": "KCdN0tQPGRCG",
        "outputId": "01353a1d-7a04-480c-8b32-3b90c0b5df48"
      },
      "outputs": [
        {
          "output_type": "stream",
          "name": "stdout",
          "text": [
            "DATA SCIENCE\n",
            "TRAINING\n"
          ]
        }
      ],
      "source": [
        "# What are decorators in python? Provide a code of same\n",
        "Decorators in Python are a way to add extra functionality to functions without changing their actual code.\n",
        "we can think of a decorator as a wrapper that enhances the original function.\n",
        "\n",
        "\n",
        "def Training(text):\n",
        "    return text.upper()\n",
        "print(Training('Data Science'))\n",
        "op = Training\n",
        "print(op('Training'))\n"
      ]
    },
    {
      "cell_type": "code",
      "source": [
        "# What do you understand by method overriding and method overloading? Give the complete implementation\n",
        "Overriding and overloading are two concept in OOP relate to behave how methods behave in Classes\n",
        "overriding changes the behaviour of an inherited method in a subclass\n",
        "it is used when a subclass wants to provide a specific implementation of a method.\n",
        "\n",
        "overloading allows multiple methods with same name\n",
        "it is used  when a method needs to perform similar operations with different types or number of input\n",
        "\n",
        "#Overriding\n",
        " class Animal:\n",
        "    def speak(self):\n",
        "        return \"Some sound\"\n",
        "\n",
        "class Dog(Animal):\n",
        "    def speak(self):\n",
        "        return \"Woof!\"\n",
        "\n",
        "class Cat(Animal):\n",
        "    def speak(self):\n",
        "        return \"Meow!\"\n",
        "\n",
        "dog = Dog()\n",
        "cat = Cat()\n",
        "\n",
        "print(dog.speak())\n",
        "print(cat.speak())\n",
        "\n",
        "\n",
        "# Overloading\n",
        "class MathOperations:\n",
        "    def add(self, a, b, c=0):\n",
        "        return a + b + c\n",
        "\n",
        "math_ops = MathOperations()\n",
        "\n",
        "print(math_ops.add(1, 2))\n",
        "print(math_ops.add(1, 2, 3))"
      ],
      "metadata": {
        "id": "V7-qX38QL5D_"
      },
      "execution_count": null,
      "outputs": []
    },
    {
      "cell_type": "code",
      "source": [
        "# 3. Code for hybrid inheritance\n",
        "\n",
        "class Office:\n",
        "\n",
        "    def func1(self):\n",
        "        print ('This function is in Office.')\n",
        "\n",
        "class Emp1(Office):\n",
        "\n",
        "    def func2(self):\n",
        "        print ('This function is in Employee 1.')\n",
        "\n",
        "class Emp2:\n",
        "\n",
        "    def func3(self):\n",
        "        print ('This function is in Employee 2.')\n",
        "\n",
        "class Emp3(Emp1, Emp2):\n",
        "\n",
        "    def func4(self):\n",
        "        print ('This function is in Employee 3.')\n",
        "\n",
        "# Driver's code\n",
        "\n",
        "object = Emp3()\n",
        "object.func1()\n",
        "object.func2()"
      ],
      "metadata": {
        "colab": {
          "base_uri": "https://localhost:8080/"
        },
        "id": "KMgPL6zuN88U",
        "outputId": "69c08c2f-cbbe-4438-be84-b0cc6e8752d7"
      },
      "execution_count": 3,
      "outputs": [
        {
          "output_type": "stream",
          "name": "stdout",
          "text": [
            "This function is in Office.\n",
            "This function is in Employee 1.\n"
          ]
        }
      ]
    },
    {
      "cell_type": "code",
      "source": [
        "# Explain about the time complexity and space complexity of stacks, queues, Linekdin list\n",
        "\n",
        "Time Complexity\n",
        "Push (insert): O(1) - Adding an element to the top of the stack takes constant time\n",
        "Pop (remove): O(1) - Removing the top element also takes constant time\n",
        "Peek (access top element) - Accessing the top element takes constant time\n",
        "\n",
        "Space Complexity\n",
        "O(n) - The space complexity is linear with respect to the number of elements stored in the stack, where n is the total number of elements\n",
        "\n",
        "Stack is a linear data structure that follows the Last In First Out (LIFO) principle\n",
        "Elements can only be added or removed from the top of the stack\n",
        "\n",
        "Queue is a linear data structure that follows the First In First Out (FIFO) principle\n",
        "Elements are added at the back and removed from the front\n",
        "\n",
        "Linked Lists provide flexible memory usage and efficient insertions/deletions but can be slower for random acces"
      ],
      "metadata": {
        "id": "ffmmPpLlPBHS"
      },
      "execution_count": null,
      "outputs": []
    },
    {
      "cell_type": "code",
      "source": [
        "# 5. Explain any 3 widgets in Streamlit\n",
        "Text Input: Gathers single-line text input from users\n",
        "\n",
        "import streamlit as st\n",
        "user_input = st.text_input(\"Enter your name:\")\n",
        "if user_input:\n",
        "    st.write(f\"Hello, {user_input}!\")\n",
        "\n",
        "Slider: Allows users to select a numeric value or range\n",
        "\n",
        "import streamlit as st\n",
        "value = st.slider(\"Select a value:\", min_value=0, max_value=100, value=50)\n",
        "st.write(f\"You selected: {value}\")\n",
        "\n",
        "Checkbox: Lets users make a binary choice (on/off)\n",
        "import streamlit as st\n",
        "agree = st.checkbox(\"I agree to the terms and conditions\")\n",
        "if agree:\n",
        "    st.write(\"Thank you for agreeing!\")\n",
        "else:\n",
        "    st.write(\"Please agree to proceed.\")"
      ],
      "metadata": {
        "id": "rX_iBtobQNUl"
      },
      "execution_count": null,
      "outputs": []
    },
    {
      "cell_type": "code",
      "source": [
        "# How will you run any file in Streamlit\n",
        "\n",
        "Firstly Install Streamlit - pip install streamlit\n",
        "\n",
        "Then Create a Python Script -\n",
        "import streamlit as st\n",
        "st.title(\"My First Streamlit App\")\n",
        "st.write(\"Hello, World!\")\n",
        "\n",
        "Run the Streamlit App - streamlit run app.py\n",
        "\n",
        "eg -\n",
        "import streamlit as st\n",
        "st.title(\"Simple Streamlit App\")\n",
        "name = st.text_input(\"Enter your name:\")\n",
        "if st.button(\"Submit\"):\n",
        "    st.write(f\"Hello, {name}!\")\n"
      ],
      "metadata": {
        "id": "MJnKqwStRzeq"
      },
      "execution_count": null,
      "outputs": []
    },
    {
      "cell_type": "code",
      "source": [
        "# Plot graph such as bar chart, pie chart\n",
        "\n",
        "Bar Chart\n",
        "\n",
        "import streamlit as st\n",
        "import pandas as pd\n",
        "data = {'Category': ['A', 'B', 'C', 'D'],\n",
        "        'Values': [10, 20, 30, 40]}\n",
        "df = pd.DataFrame(data)\n",
        "st.bar_chart(df.set_index('Category'))\n",
        "\n",
        "Pie Chart\n",
        "\n",
        "import streamlit as st\n",
        "import matplotlib.pyplot as plt\n",
        "labels = ['A', 'B', 'C', 'D']\n",
        "sizes = [15, 30, 45, 10]\n",
        "colors = ['gold', 'yellowgreen', 'lightcoral', 'lightskyblue']\n",
        "fig1, ax1 = plt.subplots()\n",
        "ax1.pie(sizes, labels=labels, colors=colors, autopct='%1.1f%%', startangle=90)\n",
        "ax1.axis('equal')\n",
        "st.pyplot(fig1)\n"
      ],
      "metadata": {
        "id": "V-KQH0lnTAzm"
      },
      "execution_count": null,
      "outputs": []
    }
  ]
}