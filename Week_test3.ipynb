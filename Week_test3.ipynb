{
  "nbformat": 4,
  "nbformat_minor": 0,
  "metadata": {
    "colab": {
      "provenance": [],
      "authorship_tag": "ABX9TyNGKax0sq0F0hb8flW4EDnf"
    },
    "kernelspec": {
      "name": "python3",
      "display_name": "Python 3"
    },
    "language_info": {
      "name": "python"
    }
  },
  "cells": [
    {
      "cell_type": "code",
      "execution_count": null,
      "metadata": {
        "id": "YjSt2Oyxh2O4"
      },
      "outputs": [],
      "source": [
        "# Explain the difference between lists and tuples in Python. Why might you choose one over the other?\n",
        "\n",
        " Lists - are mutable, means we can change their contents, we can add, remove or modify.\n",
        "lists are order ,which means the elemnts maintain their inserting Order, we can add duplicate values also.\n",
        "in list we used square bracket - [1,2,3,4]\n",
        "\n",
        "eg - list = [1,2,3]\n",
        "print(list)\n",
        "\n",
        "Tuple - are immutable, means we can't change their contents, we can't add, remove or modify once we created\n",
        "tuples also ordered like list and tuples can also duplicate values.\n",
        "in tuple we used round bracket - (1,2,3,4)\n",
        "\n",
        "eg - tuple = (1,2,3)\n",
        "print(tuple)\n",
        "\n",
        "\n",
        "Choose a list if you need a collection of items that may change, like appending or removing elements\n",
        "Choose a tuple if you want to ensure that the data remains constant throughout the program, or if you need to use the collection as a dictionary key (tuples can be hashed, while lists cannot)\n",
        "The choice between lists and tuples often depends on the need for mutability and the intended use case for the collection"
      ]
    },
    {
      "cell_type": "code",
      "source": [
        "# Write a function that takes a list of integers and returns a new list with only the even numbers.\n",
        "\n",
        "def filter_even_numbers(numbers):\n",
        "    return [num for num in numbers if num % 2 == 0]\n",
        "numbers = [1, 2, 3, 4, 5, 6, 7, 8, 9, 10]\n",
        "even_numbers = filter_even_numbers(numbers)\n",
        "print(even_numbers)"
      ],
      "metadata": {
        "id": "wNjlacw1icA3"
      },
      "execution_count": null,
      "outputs": []
    },
    {
      "cell_type": "code",
      "source": [
        "# Describe how Python’s garbage collection works. What are the main methods it uses to manage memory?\n",
        "\n",
        "Python's garbage collection is a mechanism for automatically managing memory and cleaning up unused objects to free resources\n",
        "uses two methods -\n",
        "\n",
        "1 Reference Counting - Every object in Python keeps a count of how many references point to it\n",
        " When an object is created, its count starts at one. This count increases when new references are made and decreases when references are removed\n",
        " If the count drops to zero (meaning nothing is using the object anymore), Python automatically frees the memory for that object\n",
        " (Uses reference counting to clean up objects that are no longer needed)\n",
        "\n",
        "2. Cyclic Garbage Collection -  Python has a cyclic garbage collector that looks for these circular references and cleans them up\n",
        "It periodically checks for groups of objects that are only connected to each other and can be safely removed.\n",
        "(Uses cyclic garbage collection to find and remove circular references)\n"
      ],
      "metadata": {
        "id": "SEq4Kj41jvO5"
      },
      "execution_count": null,
      "outputs": []
    },
    {
      "cell_type": "code",
      "source": [
        "# Given a dictionary where keys are student names and values are lists of their scores, write a function that returns the average score for each student.\n",
        "\n",
        "def average_scores(students_scores):\n",
        "    averages = {}\n",
        "    for student, scores in students_scores.items():\n",
        "        averages[student] = sum(scores) / len(scores) if scores else 0\n",
        "    return averages\n",
        "\n",
        "# Example usage\n",
        "students_scores = {\n",
        "    \"Alice\": [85, 90, 78],\n",
        "    \"Bob\": [70, 88, 92],\n",
        "    \"Charlie\": [100, 95]\n",
        "}\n",
        "\n",
        "print(average_scores(students_scores))\n"
      ],
      "metadata": {
        "id": "71c6UewrkqLN"
      },
      "execution_count": null,
      "outputs": []
    },
    {
      "cell_type": "code",
      "source": [
        "# What are *args and **kwargs in Python functions, and how are they used?\n",
        "\n",
        "The Use *args when you want to pass a variable number of positional arguments to a function\n",
        "Work - When you prefix a parameter with an asterisk (*), it collects all the extra positional arguments passed to the function into a tuple\n",
        "\n",
        "The Use **kwargs when you want to pass a variable number of keyword arguments to a function\n",
        "Work - When you prefix a parameter with two asterisks (**), it collects all the extra keyword arguments passed to the function into a dictionary.\n",
        "\n",
        "def print_numbers(*args):\n",
        "    for number in args:\n",
        "        print(number)\n",
        "\n",
        "print_numbers(1, 2, 3, 4)\n",
        "\n",
        "\n",
        "def print_info(**kwargs):\n",
        "    for key, value in kwargs.items():\n",
        "        print(f\"{key}: {value}\")\n",
        "\n",
        "print_info(name=\"Alice\", age=25, city=\"New York\")\n"
      ],
      "metadata": {
        "id": "ZueYmHvjk2Ix"
      },
      "execution_count": null,
      "outputs": []
    },
    {
      "cell_type": "code",
      "source": [
        "# .Explain how Streamlit’s st.cache works and why it is useful. When should you avoid using it?\n",
        "st.cache helps your app run faster by remembering results for functions, saving you time and resources when you use the same inputs multiple times\n",
        "\n",
        "st.cache works -\n",
        "Function Decoration : @st.cache This tells Streamlit to remember the results of the function based on the inputs you give it\n",
        "Caching Mechanism : The first time you call the function with specific inputs, Streamlit runs it and saves the result\n",
        "If you call the same function again with the same inputs, it gives you the saved result instead of running the function again\n",
        "Automatic Invalidation : The saved results will be cleared (invalidated) if - You change the code inside the function.\n",
        "You change the inputs when calling the function.\n",
        "You manually clear the cache if neede\n",
        "Efficient Memory Use: Streamlit manages the cached data smartly, removing old or unused entries to free up memory\n",
        "\n",
        "Avoid using st.cache for functions with side effects, those that have frequently changing inputs, or quick computations where caching may not provide significant benefits."
      ],
      "metadata": {
        "id": "tkaBmtKWnGI-"
      },
      "execution_count": null,
      "outputs": []
    },
    {
      "cell_type": "code",
      "source": [
        "# Write a simple Streamlit app that takes a user’s name as input and displays a personalized greeting message.\n",
        "\n",
        "import streamlit as st\n",
        "\n",
        "# Title of the app\n",
        "st.title(\"Personalized Greeting App\")\n",
        "\n",
        "# Input field for the user's name\n",
        "user_name = st.text_input(\"Enter your name:\")\n",
        "\n",
        "if user_name:\n",
        "    st.write(f\"Hello, {user_name}! Welcome to the Streamlit app.\")\n",
        "else:\n",
        "    st.write(\"Please enter your name to receive a greeting.\")\n"
      ],
      "metadata": {
        "id": "5gr5KRP-qtSh"
      },
      "execution_count": null,
      "outputs": []
    },
    {
      "cell_type": "code",
      "source": [
        "# Describe the st.sidebar component in Streamlit. How does it improve user experience in Streamlit applications?\n",
        "\n",
        "The st.sidebar component enhances the user experience in Streamlit applications by providing an organized, persistent, and user-friendly space for input controls,\n",
        "where you can place various interactive widgets like sliders, buttons, text inputs, and more\n",
        "allowing users to interact with the app efficiently without cluttering the main display area."
      ],
      "metadata": {
        "id": "aHmn3va_ruIR"
      },
      "execution_count": null,
      "outputs": []
    },
    {
      "cell_type": "code",
      "source": [
        "# Create a Streamlit app that displays a line chart of random data. Allow the user to select the number of data points they want in the chart using a slider.\n",
        "\n",
        "import streamlit as st\n",
        "import numpy as np\n",
        "import pandas as pd\n",
        "import matplotlib.pyplot as plt\n",
        "\n",
        "# Title of the app\n",
        "st.title(\"Random Data Line Chart\")\n",
        "\n",
        "# Slider for selecting the number of data points\n",
        "num_points = st.slider(\"Select the number of data points:\", min_value=1, max_value=100, value=10)\n",
        "\n",
        "# Generate random data\n",
        "data = np.random.rand(num_points)\n",
        "\n",
        "# Create a DataFrame for better handling\n",
        "df = pd.DataFrame(data, columns=[\"Random Values\"])\n",
        "\n",
        "# Plotting the line chart\n",
        "st.line_chart(df)\n"
      ],
      "metadata": {
        "id": "QoncvM9Rsb4t"
      },
      "execution_count": null,
      "outputs": []
    },
    {
      "cell_type": "code",
      "source": [
        "# How does Streamlit handle real-time data updates with st.button or st.checkbox? Explain a scenario where this can be useful.\n",
        "\n",
        "treamlit’s ability to re-run the script with user interactions through components like st.button and st.checkbox makes it easy to create dynamic applications\n",
        "This is especially useful for scenarios like data filtering and visualization, where real-time feedback enhances the user experience\n",
        "\n",
        "scenario - Imagine you have a dataset of sales information and you want users to filter the data based on product categories or time periods\n",
        "You can use checkboxes to let users select which product categories they want to see in a chart"
      ],
      "metadata": {
        "id": "_L7vf5wysx3A"
      },
      "execution_count": null,
      "outputs": []
    }
  ]
}